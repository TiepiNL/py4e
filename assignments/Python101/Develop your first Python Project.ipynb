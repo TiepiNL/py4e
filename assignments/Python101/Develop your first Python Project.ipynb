{
 "cells": [
  {
   "cell_type": "markdown",
   "metadata": {
    "id": "B1KBXIYhkuw5"
   },
   "source": [
    "# TASK #1: UNDERSTAND VARIABLES ASSIGNMENT"
   ]
  },
  {
   "cell_type": "code",
   "execution_count": 1,
   "metadata": {
    "id": "wsrqiWxMlQcd"
   },
   "outputs": [],
   "source": [
    "# Define a variable named \"x\" and assign a number (integer) to it\n",
    "# integer is a whole number (no decimals) that could be positive or negative\n",
    "x = 10\n"
   ]
  },
  {
   "cell_type": "code",
   "execution_count": 2,
   "metadata": {
    "colab": {
     "base_uri": "https://localhost:8080/"
    },
    "id": "_7BUQ4lalVpE",
    "outputId": "a85ec1b9-8ceb-41b4-ad1a-3569cb48bff4"
   },
   "outputs": [
    {
     "name": "stdout",
     "output_type": "stream",
     "text": [
      "10\n"
     ]
    }
   ],
   "source": [
    "# Let's view \"x\"\n",
    "print(x)"
   ]
  },
  {
   "cell_type": "code",
   "execution_count": 3,
   "metadata": {
    "id": "5RLjbN6alXBn"
   },
   "outputs": [],
   "source": [
    "# Define a variable named \"y\" and assign a number (float) to it\n",
    "# Float are real numbers with a decimal point dividing the integer and fractional parts\n",
    "y = 12.34\n"
   ]
  },
  {
   "cell_type": "code",
   "execution_count": 4,
   "metadata": {
    "colab": {
     "base_uri": "https://localhost:8080/"
    },
    "id": "XaseHcnvlY7V",
    "outputId": "0fe33940-50f7-482e-859a-c4d0cab59ef4"
   },
   "outputs": [
    {
     "name": "stdout",
     "output_type": "stream",
     "text": [
      "12.34\n"
     ]
    }
   ],
   "source": [
    "# Let's view \"y\"\n",
    "print(y)"
   ]
  },
  {
   "cell_type": "code",
   "execution_count": 5,
   "metadata": {
    "id": "1treMfL5phXx"
   },
   "outputs": [],
   "source": [
    "# Let's overwrite \"y\" (assume your portfolio value increased)\n",
    "y = 58.26"
   ]
  },
  {
   "cell_type": "code",
   "execution_count": 6,
   "metadata": {
    "colab": {
     "base_uri": "https://localhost:8080/"
    },
    "id": "QaBaDH0fp5cf",
    "outputId": "2fb30cf7-bce0-4988-b10a-92ea05762b29"
   },
   "outputs": [
    {
     "name": "stdout",
     "output_type": "stream",
     "text": [
      "58.26\n"
     ]
    }
   ],
   "source": [
    "# Notice that \"y\" will only contain the most recent value\n",
    "print(y)"
   ]
  },
  {
   "cell_type": "code",
   "execution_count": 11,
   "metadata": {
    "colab": {
     "base_uri": "https://localhost:8080/"
    },
    "id": "fqZRkUkilb-5",
    "outputId": "7aa42db1-ad0e-4817-c66d-f89c2f7a871a"
   },
   "outputs": [
    {
     "name": "stdout",
     "output_type": "stream",
     "text": [
      "<class 'int'>\n"
     ]
    }
   ],
   "source": [
    "# Get the type of \"x\" which is integer\n",
    "# integer is a whole number (no decimals) that could be positive or negative\n",
    "print(type(x))"
   ]
  },
  {
   "cell_type": "code",
   "execution_count": 12,
   "metadata": {
    "colab": {
     "base_uri": "https://localhost:8080/"
    },
    "id": "T0Rszu5xlceK",
    "outputId": "7e9f542c-2dd5-4373-bf5b-95bdbbbd2c95"
   },
   "outputs": [
    {
     "name": "stdout",
     "output_type": "stream",
     "text": [
      "<class 'float'>\n"
     ]
    }
   ],
   "source": [
    "# Get the type of \"y\" which is float\n",
    "# Float are real numbers with a decimal point dividing the integer and fractional parts\n",
    "print(type(y))"
   ]
  },
  {
   "cell_type": "markdown",
   "metadata": {
    "id": "75YN6NcVlv50"
   },
   "source": [
    "MINI CHALLENGE #1:\n",
    "- We defined a variable x and we assigned these 4 values listed below to it. Without executing any code cells, what will these lines of code generate?\n",
    "- Verify your answer by executing the code cells\n",
    "\n",
    "\n",
    "\n",
    "```\n",
    "z = 1000\n",
    "z = 2000\n",
    "z = 5000\n",
    "z = 6000\n",
    "z\n",
    "```\n"
   ]
  },
  {
   "cell_type": "code",
   "execution_count": 13,
   "metadata": {},
   "outputs": [
    {
     "data": {
      "text/plain": [
       "6000"
      ]
     },
     "execution_count": 13,
     "metadata": {},
     "output_type": "execute_result"
    }
   ],
   "source": [
    "z = 1000\n",
    "z = 2000\n",
    "z = 5000\n",
    "z = 6000\n",
    "z"
   ]
  },
  {
   "cell_type": "markdown",
   "metadata": {
    "id": "lsCfJJEkkqGQ"
   },
   "source": [
    "# TASK #2: PERFORM MATH OPERATIONS IN PYTHON"
   ]
  },
  {
   "cell_type": "code",
   "execution_count": 15,
   "metadata": {
    "colab": {
     "base_uri": "https://localhost:8080/"
    },
    "id": "vxspxvj2qTrx",
    "outputId": "6866b342-3f28-4ed6-8be1-a11777d008c1"
   },
   "outputs": [
    {
     "name": "stdout",
     "output_type": "stream",
     "text": [
      "24\n"
     ]
    }
   ],
   "source": [
    "# Define a variable named i and initialize it with 20 \n",
    "# Let's assume that we want to increment the value by 4 \n",
    "i = 20\n",
    "i += 4\n",
    "print(i)"
   ]
  },
  {
   "cell_type": "code",
   "execution_count": 17,
   "metadata": {
    "colab": {
     "base_uri": "https://localhost:8080/"
    },
    "id": "zkO001-qcZc3",
    "outputId": "cfe072c9-fed1-4c13-ee88-ad60ffe62eb4"
   },
   "outputs": [
    {
     "name": "stdout",
     "output_type": "stream",
     "text": [
      "150\n"
     ]
    }
   ],
   "source": [
    "# Let's assume that you own a little grocery store \n",
    "# The price of 1 bottle of milk is $3 and we currently have 50 bottles\n",
    "# We can calculate the total dollar value of our inventory as follows:\n",
    "price = 3\n",
    "bottles = 50\n",
    "inventory_price = price * bottles\n",
    "print(inventory_price)"
   ]
  },
  {
   "cell_type": "code",
   "execution_count": 22,
   "metadata": {
    "colab": {
     "base_uri": "https://localhost:8080/"
    },
    "id": "4bXP93aqejr1",
    "outputId": "0d8a80b7-9cb4-4b26-a087-4ce3dd2286df"
   },
   "outputs": [
    {
     "name": "stdout",
     "output_type": "stream",
     "text": [
      "4\n"
     ]
    }
   ],
   "source": [
    "# Let's assume you have $550 USD in our bank account\n",
    "# We want to buy x number of IBM stocks using the total amount \n",
    "# each IBM stock is priced at $128 each\n",
    "balance = 550\n",
    "stock_price = 128\n",
    "def buy(bal,prc):\n",
    "    return bal // prc\n",
    "print(buy(balance,stock_price))\n"
   ]
  },
  {
   "cell_type": "code",
   "execution_count": 23,
   "metadata": {
    "colab": {
     "base_uri": "https://localhost:8080/"
    },
    "id": "Mc569vLOqxzg",
    "outputId": "f09352ff-63ab-4105-fbc4-b8cffde7e355"
   },
   "outputs": [
    {
     "name": "stdout",
     "output_type": "stream",
     "text": [
      "0\n"
     ]
    }
   ],
   "source": [
    "# Divide the account balance by Amazon stock price and place the answer in units\n",
    "print(buy(balance,3396))"
   ]
  },
  {
   "cell_type": "markdown",
   "metadata": {
    "id": "8UaT7FRdNnCQ"
   },
   "source": [
    "MINI CHALLENGE #2:\n",
    "- Write a code that takes in APPLE (AAPL) stock prices at two days and calculate the return:\n",
    "  - AAPL price on day 1 = \\$135\n",
    "  - AAPL price on day 2 = \\$150\n"
   ]
  },
  {
   "cell_type": "code",
   "execution_count": 31,
   "metadata": {},
   "outputs": [
    {
     "name": "stdout",
     "output_type": "stream",
     "text": [
      "11.11111111111111\n",
      "-2.666666666666667\n"
     ]
    }
   ],
   "source": [
    "def profit(day1, day2):\n",
    "    diff = day2 - day1\n",
    "    perc = diff / day1 * 100\n",
    "    return perc\n",
    "print(profit(135,150))\n",
    "print(profit(150,146))"
   ]
  },
  {
   "cell_type": "markdown",
   "metadata": {
    "id": "7zzJ2pPPkE-b"
   },
   "source": [
    "# TASK #3: UNDERSTAND PRINT AND INPUT OPERATIONS"
   ]
  },
  {
   "cell_type": "code",
   "execution_count": 32,
   "metadata": {
    "id": "BS3wvOy9iIhI"
   },
   "outputs": [
    {
     "name": "stdout",
     "output_type": "stream",
     "text": [
      "Hello world!\n"
     ]
    }
   ],
   "source": [
    "# Print function is used to print elements on the screen\n",
    "# Define a string x \n",
    "# A string in Python is a sequence of characters\n",
    "# String in python are surrounded by single or double quotation marks\n",
    "x = \"Hello world!\"\n",
    "print(x)"
   ]
  },
  {
   "cell_type": "code",
   "execution_count": null,
   "metadata": {
    "id": "PwkYtwBbiGY2"
   },
   "outputs": [],
   "source": []
  },
  {
   "cell_type": "code",
   "execution_count": 33,
   "metadata": {},
   "outputs": [
    {
     "name": "stdout",
     "output_type": "stream",
     "text": [
      "<class 'str'>\n"
     ]
    }
   ],
   "source": [
    "# Obtain the data type for 'x'\n",
    "print(type(x))"
   ]
  },
  {
   "cell_type": "code",
   "execution_count": 34,
   "metadata": {},
   "outputs": [
    {
     "name": "stdout",
     "output_type": "stream",
     "text": [
      "I wrote: Hello world!\n",
      "I wrote: Hello world!\n"
     ]
    }
   ],
   "source": [
    "# The format() method formats the specified value and insert it in the placeholder\n",
    "# The placeholder is defined using curly braces: {}\n",
    "print(\"I wrote: {}\".format(x))\n",
    "print(f\"I wrote: {x}\")"
   ]
  },
  {
   "cell_type": "code",
   "execution_count": 35,
   "metadata": {},
   "outputs": [
    {
     "name": "stdout",
     "output_type": "stream",
     "text": [
      "WHAT?!?lolz\n"
     ]
    },
    {
     "data": {
      "text/plain": [
       "'lolz'"
      ]
     },
     "execution_count": 35,
     "metadata": {},
     "output_type": "execute_result"
    }
   ],
   "source": [
    "# input is a built-in function in python\n",
    "# Obtain client data such as name, country and e-mail and print them all out on the screen\n",
    "input(\"WHAT?!?\")"
   ]
  },
  {
   "cell_type": "markdown",
   "metadata": {},
   "source": [
    "MINI CHALLENGE #3:\n",
    "- Write a code that takes in the name of the stock, price at which it is selling, the number of stocks that you want to own and prints out the total funds required to buy this stock. Find a sample expected output below:\n",
    "  - Enter the price of the stock you want to buy: 3000  \n",
    "  - Enter the number of stocks that you want to buy: 5\n",
    "  - Enter the name of the stock that you want to buy: AMZN\n",
    "  - The total funds required to buy 5 number of AMZN stocks at 3000 is: 15000\n"
   ]
  },
  {
   "cell_type": "code",
   "execution_count": 39,
   "metadata": {},
   "outputs": [
    {
     "name": "stdout",
     "output_type": "stream",
     "text": [
      "Name of the stock: AMZN\n",
      "Selling price: 3000\n",
      "Number of stocks: 5\n",
      "The total funds required to buy 5 number of AMZN stocks at 3000 is: 15000\n"
     ]
    }
   ],
   "source": [
    "name = input(\"Name of the stock: \")\n",
    "price = input(\"Selling price: \")\n",
    "amount = input(\"Number of stocks: \")\n",
    "output = f\"The total funds required to buy {amount} number of {name} stocks at {price} is: {int(amount) * int(price)}\"\n",
    "print(output)\n"
   ]
  },
  {
   "cell_type": "markdown",
   "metadata": {},
   "source": [
    "# TASK #4: UNDERSTAND LISTS DATA TYPES"
   ]
  },
  {
   "cell_type": "code",
   "execution_count": 3,
   "metadata": {},
   "outputs": [],
   "source": [
    "# A list is a collection which is ordered and changeable. \n",
    "# List allows duplicate members.\n",
    "lst = [\"xmas\", \"nye\", \"eastern\", \"independence day\"]"
   ]
  },
  {
   "cell_type": "code",
   "execution_count": 2,
   "metadata": {},
   "outputs": [
    {
     "name": "stdout",
     "output_type": "stream",
     "text": [
      "<class 'list'>\n"
     ]
    }
   ],
   "source": [
    "# Obtain the datatype\n",
    "print(type(lst))"
   ]
  },
  {
   "cell_type": "code",
   "execution_count": 6,
   "metadata": {},
   "outputs": [
    {
     "name": "stdout",
     "output_type": "stream",
     "text": [
      "independence day\n"
     ]
    }
   ],
   "source": [
    "# Access specific elements in the list with Indexing\n",
    "# Note that the first element in the list has an index of 0 (little confusing but you'll get used to it!)\n",
    "print(lst[3]) "
   ]
  },
  {
   "cell_type": "markdown",
   "metadata": {},
   "source": [
    "MINI CHALLENGE #4:\n",
    "- Print the first, second and last element in the list below\n",
    "\n",
    "```\n",
    "grocery_list = ['milk', 'rice', 'eggs', 'bread', 'oranges', 'water']\n",
    "\n",
    "```\n",
    "\n"
   ]
  },
  {
   "cell_type": "code",
   "execution_count": 7,
   "metadata": {},
   "outputs": [
    {
     "name": "stdout",
     "output_type": "stream",
     "text": [
      "milk rice water\n"
     ]
    }
   ],
   "source": [
    "grocery_list = ['milk', 'rice', 'eggs', 'bread', 'oranges', 'water']\n",
    "print(grocery_list[0], grocery_list[1], grocery_list[len(grocery_list)-1])"
   ]
  },
  {
   "cell_type": "markdown",
   "metadata": {},
   "source": [
    "# TASK #5: UNDERSTAND COMPARISON OPERATORS AND CONDITIONAL STATEMENTS"
   ]
  },
  {
   "cell_type": "code",
   "execution_count": 10,
   "metadata": {},
   "outputs": [
    {
     "name": "stdout",
     "output_type": "stream",
     "text": [
      "False :(\n"
     ]
    }
   ],
   "source": [
    "# Comparison Operator output could be \"True\" or \"False\"\n",
    "# Let's cover equal '==' comparison operator first\n",
    "# It's simply a question: \"Is x equals y or not?\"\n",
    "# \"True\" output means condition is satisfied \n",
    "# \"False\" output means Condition is not satisfied (condition is not true) \n",
    "x = 5\n",
    "y = 6\n",
    "if x == y:\n",
    "    print(\"True :)\")\n",
    "else:\n",
    "    print(\"False :(\")"
   ]
  },
  {
   "cell_type": "code",
   "execution_count": 12,
   "metadata": {},
   "outputs": [
    {
     "name": "stdout",
     "output_type": "stream",
     "text": [
      "True :)\n"
     ]
    }
   ],
   "source": [
    "# Greater than or equal operator '>='\n",
    "x = 7\n",
    "y = 6\n",
    "if x >= y:\n",
    "    print(\"True :)\")\n",
    "else:\n",
    "    print(\"False :(\")\n"
   ]
  },
  {
   "cell_type": "code",
   "execution_count": 15,
   "metadata": {},
   "outputs": [
    {
     "data": {
      "text/plain": [
       "True"
      ]
     },
     "execution_count": 15,
     "metadata": {},
     "output_type": "execute_result"
    }
   ],
   "source": [
    "# Note that '==' is a comparison operator \n",
    "# Note that '=' is used for variable assignment (put 10 in x)\n",
    "x = 10\n",
    "x == 10"
   ]
  },
  {
   "cell_type": "code",
   "execution_count": null,
   "metadata": {},
   "outputs": [],
   "source": []
  },
  {
   "cell_type": "markdown",
   "metadata": {},
   "source": [
    "- A simple if-else statement is written in Python as follows:\n",
    "\n",
    "```\n",
    "if condition:\n",
    "  statement #1\n",
    "else:\n",
    "  statement #2\n",
    "```\n",
    "\n",
    "- If the condition is true, execute the first indented statement\n",
    "- if the condition is not true, then execute the else indented statements. \n",
    "- Note that Python uses indentation (whitespace) to indicate code sections and scope."
   ]
  },
  {
   "cell_type": "code",
   "execution_count": 17,
   "metadata": {},
   "outputs": [
    {
     "name": "stdout",
     "output_type": "stream",
     "text": [
      "Enter password: welcome1234\n",
      "access granted\n"
     ]
    }
   ],
   "source": [
    "# Let's take an input from the user and grant or deny access accordingly\n",
    "secret = \"welcome1234\"\n",
    "pwd = input(\"Enter password: \")\n",
    "if pwd == secret:\n",
    "    print(\"access granted\")\n",
    "else:\n",
    "    print(\"access denied\")"
   ]
  },
  {
   "cell_type": "markdown",
   "metadata": {},
   "source": [
    "MINI CHALLENGE #5:\n",
    "- Write a code that takes a number from the user and indicates if it's positive or negative"
   ]
  },
  {
   "cell_type": "code",
   "execution_count": 20,
   "metadata": {},
   "outputs": [
    {
     "name": "stdout",
     "output_type": "stream",
     "text": [
      "Give a number: -3\n",
      "Number -3 is negative\n"
     ]
    }
   ],
   "source": [
    "nbr = input(\"Give a number: \")\n",
    "if int(nbr) < 0:\n",
    "    print(f\"Number {nbr} is negative\")\n",
    "else:\n",
    "    print(f\"Number {nbr} is positive\")"
   ]
  },
  {
   "cell_type": "code",
   "execution_count": 26,
   "metadata": {},
   "outputs": [
    {
     "name": "stdout",
     "output_type": "stream",
     "text": [
      "Number 7 is odd\n",
      "Number 180 is even\n"
     ]
    }
   ],
   "source": [
    "def oddeven(x):\n",
    "    if x % 2 == 0:\n",
    "        print(f\"Number {x} is even\")\n",
    "    else:\n",
    "        print(f\"Number {x} is odd\")\n",
    "\n",
    "oddeven(7)\n",
    "oddeven(180)"
   ]
  },
  {
   "cell_type": "markdown",
   "metadata": {},
   "source": [
    "# TASK #6: DEVELOP FUNCTIONS IN PYTHON"
   ]
  },
  {
   "cell_type": "code",
   "execution_count": 23,
   "metadata": {},
   "outputs": [],
   "source": [
    "# Define a function that takes in two argument x and y and returns their multiplication \n",
    "def multiply(x, y):\n",
    "    return x * y"
   ]
  },
  {
   "cell_type": "code",
   "execution_count": 24,
   "metadata": {},
   "outputs": [
    {
     "name": "stdout",
     "output_type": "stream",
     "text": [
      "20\n"
     ]
    }
   ],
   "source": [
    "# Call the function\n",
    "print(multiply(5, 4))"
   ]
  },
  {
   "cell_type": "markdown",
   "metadata": {},
   "source": [
    "MINI CHALLENGE #6:\n",
    "- Write a code that takes in three inputs from the user and calculate their sum"
   ]
  },
  {
   "cell_type": "code",
   "execution_count": 30,
   "metadata": {},
   "outputs": [
    {
     "name": "stdout",
     "output_type": "stream",
     "text": [
      "Enter 1st number: 4\n",
      "Enter 2nd number: 4\n",
      "Enter 3rd number: 10\n",
      "18\n"
     ]
    }
   ],
   "source": [
    "def sum3(x, y, z):\n",
    "    lst = [x, y, z]\n",
    "    return sum(lst)\n",
    "\n",
    "num1 = int(input(\"Enter 1st number: \"))\n",
    "num2 = int(input(\"Enter 2nd number: \"))\n",
    "num3 = int(input(\"Enter 3rd number: \"))\n",
    "outcome = sum3(num1, num2, num3)\n",
    "print(outcome)"
   ]
  },
  {
   "cell_type": "markdown",
   "metadata": {},
   "source": [
    "# TASK #7: UNDERSTAND FOR AND WHILE LOOPS"
   ]
  },
  {
   "cell_type": "code",
   "execution_count": 27,
   "metadata": {},
   "outputs": [],
   "source": [
    "# List of strings\n",
    "lst = [\"While\", \"loop\", \"can\", \"be\", \"used\", \"to\", \"execute\", \"a\", \"set\", \"of\", \"statements\", \"as\", \"long\", \"as\", \"a\", \"certain\", \"condition\", \"holds\", \"true\"]"
   ]
  },
  {
   "cell_type": "code",
   "execution_count": 36,
   "metadata": {},
   "outputs": [
    {
     "name": "stdout",
     "output_type": "stream",
     "text": [
      "While loop can be used to execute a set of statements as long as a certain condition holds true\n",
      "While\n",
      "loop\n",
      "can\n",
      "be\n",
      "used\n",
      "to\n",
      "execute\n",
      "a\n",
      "set\n",
      "of\n",
      "statements\n",
      "as\n",
      "long\n",
      "as\n",
      "a\n",
      "certain\n",
      "condition\n",
      "holds\n",
      "true\n"
     ]
    }
   ],
   "source": [
    "print(\" \".join(lst))\n",
    "for i in lst:\n",
    "    print(i)"
   ]
  },
  {
   "cell_type": "code",
   "execution_count": 37,
   "metadata": {},
   "outputs": [
    {
     "name": "stdout",
     "output_type": "stream",
     "text": [
      "to\n",
      "execute\n",
      "a\n",
      "set\n",
      "of\n",
      "statements\n",
      "as\n",
      "long\n",
      "as\n",
      "a\n",
      "certain\n",
      "condition\n",
      "holds\n",
      "true\n"
     ]
    }
   ],
   "source": [
    "# Range() generates a list of numbers, which is used to iterate over with for loops.\n",
    "# range() is 0-index based, meaning list indexes start at 0, not 1. \n",
    "# The last integer generated by range() is up to, but not including, last element. \n",
    "# Example: range(0, 7) generates integers from 0 up to, but not including, 7.\n",
    "for i in range(5, len(lst)):\n",
    "    print(lst[i])"
   ]
  },
  {
   "cell_type": "code",
   "execution_count": null,
   "metadata": {},
   "outputs": [],
   "source": [
    "# While loop can be used to execute a set of statements as long as a certain condition holds true.\n"
   ]
  },
  {
   "cell_type": "markdown",
   "metadata": {},
   "source": [
    "MINI CHALLENGE #7:\n",
    "- Write a code that displays numbers from 1 to 10 using for and while loops\n"
   ]
  },
  {
   "cell_type": "code",
   "execution_count": 39,
   "metadata": {},
   "outputs": [
    {
     "name": "stdout",
     "output_type": "stream",
     "text": [
      "1\n",
      "2\n",
      "3\n",
      "4\n",
      "5\n",
      "6\n",
      "7\n",
      "8\n",
      "9\n",
      "10\n",
      "1\n",
      "2\n",
      "3\n",
      "4\n",
      "5\n",
      "6\n",
      "7\n",
      "8\n",
      "9\n",
      "10\n"
     ]
    }
   ],
   "source": [
    "for i in range(1, 11):\n",
    "    print(i)\n",
    "\n",
    "i = 1\n",
    "while i <= 10:\n",
    "    print(i)\n",
    "    i += 1"
   ]
  },
  {
   "cell_type": "markdown",
   "metadata": {},
   "source": [
    "# TASK #8: CAPSTONE PROJECT"
   ]
  },
  {
   "cell_type": "markdown",
   "metadata": {},
   "source": [
    "Develop a guessing game that performs the following: \n",
    "- The system will automatically generate a random number between 1 and 100. \n",
    "- Users can insert any number between 1 and 100\n",
    "- The program shall be able to compare the number generated by the system and the number that has been entered by the user. The program shall print out one of the following options to help the user improve their next guess:\n",
    "    - You are right, great job!\n",
    "    - Your guess is low, try again!\n",
    "    - your guess is high, try again!\n",
    "\n",
    "- The program exits when the user guess matches the number generated by the system\n",
    "\n"
   ]
  },
  {
   "cell_type": "code",
   "execution_count": 43,
   "metadata": {},
   "outputs": [
    {
     "name": "stdout",
     "output_type": "stream",
     "text": [
      "Enter a number between 1 and 100: 4\n",
      "Your guess is too low, try again!\n",
      "Enter a number between 1 and 100: stop\n",
      "The secret number was 8\n"
     ]
    }
   ],
   "source": [
    "from random import randrange\n",
    "random_nbr = randrange(1,101)\n",
    "user_nbr = -1\n",
    "while True:\n",
    "    user_nbr = input(\"Enter a number between 1 and 100: \")\n",
    "    if user_nbr in [\"stop\", \"abort\", \"cancel\", \"stop\", \"quit\", \"exit\"]:\n",
    "        print(f\"The secret number was {random_nbr}\")\n",
    "        break\n",
    "    else:\n",
    "        try:\n",
    "            user_nbr = int(user_nbr)\n",
    "        except:\n",
    "            print(\"ERROR: Please enter a valid number betwee n1 and 100\")\n",
    "            continue\n",
    "    if user_nbr == random_nbr:\n",
    "        print(\"You are right, great job!\")\n",
    "        break\n",
    "    elif user_nbr < random_nbr:\n",
    "        print(\"Your guess is too low, try again!\")\n",
    "    else:\n",
    "        print(\"your guess is too high, try again!\")"
   ]
  },
  {
   "cell_type": "code",
   "execution_count": null,
   "metadata": {},
   "outputs": [],
   "source": []
  },
  {
   "cell_type": "code",
   "execution_count": null,
   "metadata": {},
   "outputs": [],
   "source": []
  },
  {
   "cell_type": "code",
   "execution_count": null,
   "metadata": {},
   "outputs": [],
   "source": []
  },
  {
   "cell_type": "code",
   "execution_count": null,
   "metadata": {},
   "outputs": [],
   "source": []
  },
  {
   "cell_type": "markdown",
   "metadata": {
    "id": "Jm-0XhPntGtK"
   },
   "source": [
    "# EXCELLENT JOB"
   ]
  },
  {
   "cell_type": "markdown",
   "metadata": {
    "id": "_wuaDbzWm-i8"
   },
   "source": [
    "# MINI CHALLENGES SOLUTIONS"
   ]
  },
  {
   "cell_type": "markdown",
   "metadata": {
    "id": "Xq-Y8OW0nG8O"
   },
   "source": [
    "MINI CHALLENGE #1 SOLUTION:\n",
    "- We defined a variable x and we assigned these 4 values listed below to it. Without executing any code cells, what will these lines of code generate?\n",
    "- Verify your answer by executing the code cells\n",
    "\n",
    "```\n",
    "z = 1000\n",
    "z = 2000\n",
    "z = 5000\n",
    "z = 6000\n",
    "z\n",
    "```"
   ]
  },
  {
   "cell_type": "code",
   "execution_count": null,
   "metadata": {
    "id": "R_CHNPWbnAf0"
   },
   "outputs": [],
   "source": [
    "# The output of this code is 5000\n",
    "# Initially we put 1000 in z, then we overwrite it by placing 2000 in z, and then 5000 in z & finally 6000 in z\n",
    "z = 1000\n",
    "z = 2000\n",
    "z = 5000\n",
    "z = 6000\n",
    "z"
   ]
  },
  {
   "cell_type": "markdown",
   "metadata": {
    "id": "kfyhdekfaUnr"
   },
   "source": [
    "MINI CHALLENGE #2 SOLUTION:\n",
    "- Write a code that takes in APPLE (AAPL) stock prices at two days and calculate the return:\n",
    "  - AAPL price on day 1 = \\$135\n",
    "  - AAPL price on day 2 = \\$150\n"
   ]
  },
  {
   "cell_type": "code",
   "execution_count": null,
   "metadata": {
    "id": "SUdMEr51Y0cR"
   },
   "outputs": [],
   "source": [
    "AAPL_price_1 = 135\n",
    "AAPL_price_2 = 150\n",
    "\n",
    "price_diff = AAPL_price_2 - AAPL_price_1\n",
    "percentage_change = price_diff / AAPL_price_1 * 100\n",
    "\n",
    "percentage_change"
   ]
  },
  {
   "cell_type": "markdown",
   "metadata": {},
   "source": [
    "MINI CHALLENGE #3 SOLUTION:\n",
    "- Write a code that takes in the name of the stock, price at which it is selling, the number of stocks that you want to own and prints out the total funds required to buy this stock. Find a sample expected output below:\n",
    "  - Enter the price of the stock you want to buy: 3000  \n",
    "  - Enter the number of stocks that you want to buy: 5\n",
    "  - Enter the name of the stock that you want to buy: AMZN\n",
    "  - The total funds required to buy 5 number of AMZN stocks at 3000 is: 15000"
   ]
  },
  {
   "cell_type": "code",
   "execution_count": null,
   "metadata": {},
   "outputs": [],
   "source": [
    "x = input(\"Enter the price of the stock you want to buy: \")\n",
    "x = int(x)\n",
    "y = input(\"Enter the number of stocks that you want to buy: \")\n",
    "y = int(y)\n",
    "z = input(\"Enter the name of the stock that you want to buy: \")\n",
    "print('The total funds required to buy {} number of {} stocks at {} is {}'.format(y,z,x, x*y)) "
   ]
  },
  {
   "cell_type": "markdown",
   "metadata": {},
   "source": [
    "MINI CHALLENGE #4 SOLUTION:\n",
    "- Print the first, second and last element in the list below\n",
    "\n",
    "```\n",
    "grocery_list = ['milk', 'rice', 'eggs', 'bread', 'oranges', 'water']\n",
    "\n",
    "```\n"
   ]
  },
  {
   "cell_type": "code",
   "execution_count": null,
   "metadata": {},
   "outputs": [],
   "source": [
    "grocery_list = ['milk', 'rice', 'eggs', 'bread', 'oranges', 'water']\n",
    "print(grocery_list[0])\n",
    "print(grocery_list[1])\n",
    "print(grocery_list[-1])"
   ]
  },
  {
   "cell_type": "markdown",
   "metadata": {},
   "source": [
    "MINI CHALLENGE #5 SOLUTION:\n",
    "- Write a code that takes a number from the user and indicates if it's positive or negative"
   ]
  },
  {
   "cell_type": "code",
   "execution_count": null,
   "metadata": {},
   "outputs": [],
   "source": [
    "x = int(input(\"Please enter an integer: \"))\n",
    "\n",
    "if x < 0:\n",
    "    print('Number is Negative')\n",
    "elif x > 0:\n",
    "    print('Number is Positive')\n",
    "else:    \n",
    "    print ('Number is zero')"
   ]
  },
  {
   "cell_type": "markdown",
   "metadata": {},
   "source": [
    "MINI CHALLENGE #6 SOLUTION:\n",
    "- Write a code that takes in three inputs from the user and calculate their sum"
   ]
  },
  {
   "cell_type": "code",
   "execution_count": null,
   "metadata": {},
   "outputs": [],
   "source": [
    "def summation(x, y, z):\n",
    "    return x + y + z"
   ]
  },
  {
   "cell_type": "code",
   "execution_count": null,
   "metadata": {},
   "outputs": [],
   "source": [
    "num1 = int(input(\"Enter the first number: \"))\n",
    "num2 = int(input(\"Enter the second number: \"))\n",
    "num3 = int(input(\"Enter the third number: \"))\n",
    "\n",
    "total = summation(num1, num2, num3)\n",
    "\n",
    "print('Total balance = {}'.format(total))"
   ]
  },
  {
   "cell_type": "markdown",
   "metadata": {},
   "source": [
    "MINI CHALLENGE #7 SOLUTION:\n",
    "- Write a code that displays numbers from 1 to 10 using for and while loops"
   ]
  },
  {
   "cell_type": "code",
   "execution_count": null,
   "metadata": {},
   "outputs": [],
   "source": [
    "i = 1\n",
    "while (i < 11):\n",
    "  print (i)\n",
    "  i = i+1"
   ]
  },
  {
   "cell_type": "code",
   "execution_count": null,
   "metadata": {},
   "outputs": [],
   "source": [
    "for i in range(1, 11):\n",
    "    print(i)"
   ]
  },
  {
   "cell_type": "code",
   "execution_count": null,
   "metadata": {},
   "outputs": [],
   "source": []
  }
 ],
 "metadata": {
  "colab": {
   "collapsed_sections": [],
   "name": "Python 101 - Variables Assignment and Math Operations.ipynb",
   "provenance": []
  },
  "kernelspec": {
   "display_name": "Python 3",
   "language": "python",
   "name": "python3"
  },
  "language_info": {
   "codemirror_mode": {
    "name": "ipython",
    "version": 3
   },
   "file_extension": ".py",
   "mimetype": "text/x-python",
   "name": "python",
   "nbconvert_exporter": "python",
   "pygments_lexer": "ipython3",
   "version": "3.7.0"
  }
 },
 "nbformat": 4,
 "nbformat_minor": 1
}
